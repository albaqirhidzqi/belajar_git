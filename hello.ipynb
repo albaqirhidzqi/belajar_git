{
 "cells": [
  {
   "cell_type": "code",
   "execution_count": 1,
   "metadata": {},
   "outputs": [
    {
     "name": "stdout",
     "output_type": "stream",
     "text": [
      "Hello Johny Dumm, my name is hellena . Nice to meet you!!!\n",
      "--------------------------------------------------\n"
     ]
    }
   ],
   "source": [
    "print(\"Hello Johny Dumm, my name is hellena . Nice to meet you!!!\")\n",
    "print(\"-\"*50)"
   ]
  },
  {
   "cell_type": "code",
   "execution_count": null,
   "metadata": {},
   "outputs": [],
   "source": []
  }
 ],
 "metadata": {
  "kernelspec": {
   "display_name": "base",
   "language": "python",
   "name": "python3"
  },
  "language_info": {
   "name": "python",
   "version": "3.12.7"
  }
 },
 "nbformat": 4,
 "nbformat_minor": 2
}
